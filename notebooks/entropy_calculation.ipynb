{
 "cells": [
  {
   "cell_type": "code",
   "execution_count": 1,
   "metadata": {},
   "outputs": [],
   "source": [
    "import pandas as pd\n",
    "import numpy as np\n",
    "import seaborn as sns\n",
    "import matplotlib.pyplot as plt\n",
    "sns.set()"
   ]
  },
  {
   "cell_type": "markdown",
   "metadata": {},
   "source": [
    "Load data:"
   ]
  },
  {
   "cell_type": "code",
   "execution_count": 2,
   "metadata": {},
   "outputs": [],
   "source": [
    "chosen_annotators = pd.read_csv('../data/folded_aggresion.csv')\n",
    "aggression_annotations = pd.read_csv('../data/aggression_annotations.tsv', sep='\\t')\n",
    "aggression_comments = pd.read_csv('../data/aggression_annotated_comments.tsv', sep='\\t')"
   ]
  },
  {
   "cell_type": "markdown",
   "metadata": {},
   "source": [
    "Check the number of chosen annotators:"
   ]
  },
  {
   "cell_type": "code",
   "execution_count": 3,
   "metadata": {},
   "outputs": [
    {
     "data": {
      "text/plain": [
       "2450"
      ]
     },
     "execution_count": 3,
     "metadata": {},
     "output_type": "execute_result"
    }
   ],
   "source": [
    "chosen_annotators = chosen_annotators.worker_id.unique()\n",
    "len(chosen_annotators)"
   ]
  },
  {
   "cell_type": "markdown",
   "metadata": {},
   "source": [
    "Filter and merge with split info:"
   ]
  },
  {
   "cell_type": "code",
   "execution_count": 4,
   "metadata": {},
   "outputs": [],
   "source": [
    "filtered_annotations = aggression_annotations.loc[aggression_annotations.worker_id.isin(chosen_annotators)]\n",
    "filtered_annotations = filtered_annotations.merge(aggression_comments, on='rev_id')"
   ]
  },
  {
   "cell_type": "markdown",
   "metadata": {},
   "source": [
    "## Entropy"
   ]
  },
  {
   "cell_type": "code",
   "execution_count": 5,
   "metadata": {},
   "outputs": [],
   "source": [
    "entropy_df = filtered_annotations.groupby('rev_id').mean().aggression.reset_index()\n",
    "count_df = filtered_annotations.groupby('rev_id').count().aggression.reset_index()\n",
    "entropy_df.columns = ['rev_id', 'p_aggressive']\n",
    "count_df.columns = ['rev_id', 'num_annotations']\n",
    "entropy_df['entropy'] = entropy_df.p_aggressive.apply(lambda x: 0 if (x == 0 or x == 1) else \n",
    "                                                      - x * np.log2(x) - (1 - x) * np.log2(1 - x))\n",
    "entropy_df = entropy_df.merge(count_df, on='rev_id')\n",
    "entropy_df = entropy_df.merge(aggression_comments, on='rev_id')\n",
    "entropy_df = entropy_df[['rev_id', 'p_aggressive', 'entropy', 'num_annotations', 'split']]"
   ]
  },
  {
   "cell_type": "code",
   "execution_count": 6,
   "metadata": {},
   "outputs": [],
   "source": [
    "entropy_df = entropy_df.sort_values(by='entropy', ascending=False)"
   ]
  },
  {
   "cell_type": "code",
   "execution_count": 7,
   "metadata": {},
   "outputs": [
    {
     "data": {
      "text/html": [
       "<div>\n",
       "<style scoped>\n",
       "    .dataframe tbody tr th:only-of-type {\n",
       "        vertical-align: middle;\n",
       "    }\n",
       "\n",
       "    .dataframe tbody tr th {\n",
       "        vertical-align: top;\n",
       "    }\n",
       "\n",
       "    .dataframe thead th {\n",
       "        text-align: right;\n",
       "    }\n",
       "</style>\n",
       "<table border=\"1\" class=\"dataframe\">\n",
       "  <thead>\n",
       "    <tr style=\"text-align: right;\">\n",
       "      <th></th>\n",
       "      <th>rev_id</th>\n",
       "      <th>p_aggressive</th>\n",
       "      <th>entropy</th>\n",
       "      <th>num_annotations</th>\n",
       "      <th>split</th>\n",
       "    </tr>\n",
       "  </thead>\n",
       "  <tbody>\n",
       "    <tr>\n",
       "      <th>107668</th>\n",
       "      <td>630648413</td>\n",
       "      <td>0.5</td>\n",
       "      <td>1.0</td>\n",
       "      <td>10</td>\n",
       "      <td>train</td>\n",
       "    </tr>\n",
       "    <tr>\n",
       "      <th>3360</th>\n",
       "      <td>23142982</td>\n",
       "      <td>0.5</td>\n",
       "      <td>1.0</td>\n",
       "      <td>10</td>\n",
       "      <td>dev</td>\n",
       "    </tr>\n",
       "    <tr>\n",
       "      <th>76844</th>\n",
       "      <td>386891548</td>\n",
       "      <td>0.5</td>\n",
       "      <td>1.0</td>\n",
       "      <td>6</td>\n",
       "      <td>train</td>\n",
       "    </tr>\n",
       "    <tr>\n",
       "      <th>49973</th>\n",
       "      <td>226719672</td>\n",
       "      <td>0.5</td>\n",
       "      <td>1.0</td>\n",
       "      <td>8</td>\n",
       "      <td>train</td>\n",
       "    </tr>\n",
       "    <tr>\n",
       "      <th>27334</th>\n",
       "      <td>118177029</td>\n",
       "      <td>0.5</td>\n",
       "      <td>1.0</td>\n",
       "      <td>26</td>\n",
       "      <td>test</td>\n",
       "    </tr>\n",
       "    <tr>\n",
       "      <th>...</th>\n",
       "      <td>...</td>\n",
       "      <td>...</td>\n",
       "      <td>...</td>\n",
       "      <td>...</td>\n",
       "      <td>...</td>\n",
       "    </tr>\n",
       "    <tr>\n",
       "      <th>50900</th>\n",
       "      <td>230923672</td>\n",
       "      <td>0.0</td>\n",
       "      <td>0.0</td>\n",
       "      <td>9</td>\n",
       "      <td>train</td>\n",
       "    </tr>\n",
       "    <tr>\n",
       "      <th>50898</th>\n",
       "      <td>230906115</td>\n",
       "      <td>0.0</td>\n",
       "      <td>0.0</td>\n",
       "      <td>8</td>\n",
       "      <td>train</td>\n",
       "    </tr>\n",
       "    <tr>\n",
       "      <th>50897</th>\n",
       "      <td>230899340</td>\n",
       "      <td>0.0</td>\n",
       "      <td>0.0</td>\n",
       "      <td>10</td>\n",
       "      <td>test</td>\n",
       "    </tr>\n",
       "    <tr>\n",
       "      <th>50895</th>\n",
       "      <td>230898107</td>\n",
       "      <td>0.0</td>\n",
       "      <td>0.0</td>\n",
       "      <td>14</td>\n",
       "      <td>train</td>\n",
       "    </tr>\n",
       "    <tr>\n",
       "      <th>115860</th>\n",
       "      <td>699897151</td>\n",
       "      <td>0.0</td>\n",
       "      <td>0.0</td>\n",
       "      <td>9</td>\n",
       "      <td>train</td>\n",
       "    </tr>\n",
       "  </tbody>\n",
       "</table>\n",
       "<p>115861 rows × 5 columns</p>\n",
       "</div>"
      ],
      "text/plain": [
       "           rev_id  p_aggressive  entropy  num_annotations  split\n",
       "107668  630648413           0.5      1.0               10  train\n",
       "3360     23142982           0.5      1.0               10    dev\n",
       "76844   386891548           0.5      1.0                6  train\n",
       "49973   226719672           0.5      1.0                8  train\n",
       "27334   118177029           0.5      1.0               26   test\n",
       "...           ...           ...      ...              ...    ...\n",
       "50900   230923672           0.0      0.0                9  train\n",
       "50898   230906115           0.0      0.0                8  train\n",
       "50897   230899340           0.0      0.0               10   test\n",
       "50895   230898107           0.0      0.0               14  train\n",
       "115860  699897151           0.0      0.0                9  train\n",
       "\n",
       "[115861 rows x 5 columns]"
      ]
     },
     "execution_count": 7,
     "metadata": {},
     "output_type": "execute_result"
    }
   ],
   "source": [
    "entropy_df"
   ]
  },
  {
   "cell_type": "markdown",
   "metadata": {},
   "source": [
    "Entropy distribution over the whole dataset:"
   ]
  },
  {
   "cell_type": "code",
   "execution_count": 11,
   "metadata": {},
   "outputs": [
    {
     "data": {
      "text/plain": [
       "[Text(0.5, 0, 'entropy'),\n",
       " Text(0, 0.5, 'number of comments'),\n",
       " Text(0.5, 1.0, 'Entropy distribution in the dataset')]"
      ]
     },
     "execution_count": 11,
     "metadata": {},
     "output_type": "execute_result"
    },
    {
     "data": {
      "image/png": "[encoded data removed]",
      "text/plain": [
       "<Figure size 432x288 with 1 Axes>"
      ]
     },
     "metadata": {},
     "output_type": "display_data"
    }
   ],
   "source": [
    "ax = entropy_df.entropy.hist(bins=20)\n",
    "ax.set(xlabel='entropy', ylabel='number of comments', title='Entropy distribution in the dataset')"
   ]
  },
  {
   "cell_type": "code",
   "execution_count": 9,
   "metadata": {},
   "outputs": [
    {
     "name": "stdout",
     "output_type": "stream",
     "text": [
      "Number of examples with zero entropy: 60454\n",
      "Number of examples with non-zero entropy: 55407\n"
     ]
    }
   ],
   "source": [
    "print(f\"Number of examples with zero entropy: {len(entropy_df.loc[entropy_df.entropy == 0])}\")\n",
    "print(f\"Number of examples with non-zero entropy: {len(entropy_df.loc[entropy_df.entropy > 0])}\")"
   ]
  },
  {
   "cell_type": "markdown",
   "metadata": {},
   "source": [
    "Entropy distribution over examples in the *dev* set:"
   ]
  },
  {
   "cell_type": "code",
   "execution_count": 12,
   "metadata": {},
   "outputs": [
    {
     "data": {
      "text/plain": [
       "[Text(0.5, 0, 'entropy'),\n",
       " Text(0, 0.5, 'number of comments'),\n",
       " Text(0.5, 1.0, 'Entropy distribution in the DEV set')]"
      ]
     },
     "execution_count": 12,
     "metadata": {},
     "output_type": "execute_result"
    },
    {
     "data": {
      "image/png": "[encoded data removed]",
      "text/plain": [
       "<Figure size 432x288 with 1 Axes>"
      ]
     },
     "metadata": {},
     "output_type": "display_data"
    }
   ],
   "source": [
    "ax2 = entropy_df.loc[entropy_df.split == 'dev'].entropy.hist(bins=20)\n",
    "ax2.set(xlabel='entropy', ylabel='number of comments', title='Entropy distribution in the DEV set')"
   ]
  },
  {
   "cell_type": "code",
   "execution_count": 14,
   "metadata": {},
   "outputs": [
    {
     "name": "stdout",
     "output_type": "stream",
     "text": [
      "Number of examples with zero entropy: 12143\n",
      "Number of examples with non-zero entropy: 11017\n"
     ]
    }
   ],
   "source": [
    "print(f\"Number of examples with zero entropy: {len(entropy_df.loc[np.logical_and(entropy_df.entropy == 0, entropy_df.split == 'dev')])}\")\n",
    "print(f\"Number of examples with non-zero entropy: {len(entropy_df.loc[np.logical_and(entropy_df.entropy > 0, entropy_df.split == 'dev')])}\")"
   ]
  },
  {
   "cell_type": "markdown",
   "metadata": {},
   "source": [
    "## Annotations distribution"
   ]
  },
  {
   "cell_type": "code",
   "execution_count": 19,
   "metadata": {},
   "outputs": [
    {
     "data": {
      "text/plain": [
       "[Text(0.5, 0, 'number of annotations'),\n",
       " Text(0, 0.5, 'number of comments'),\n",
       " Text(0.5, 1.0, 'Annotations distribution in the DEV set')]"
      ]
     },
     "execution_count": 19,
     "metadata": {},
     "output_type": "execute_result"
    },
    {
     "data": {
      "image/png": "[encoded data removed]",
      "text/plain": [
       "<Figure size 432x288 with 1 Axes>"
      ]
     },
     "metadata": {},
     "output_type": "display_data"
    }
   ],
   "source": [
    "ax3 = entropy_df.loc[entropy_df.split == 'dev'].num_annotations.hist(bins=35)\n",
    "ax3.set(xlabel='number of annotations', ylabel='number of comments', title='Annotations distribution in the DEV set')"
   ]
  },
  {
   "cell_type": "code",
   "execution_count": 20,
   "metadata": {},
   "outputs": [],
   "source": [
    "entropy_df.to_csv('../data/entropy.csv', index=False)"
   ]
  }
 ],
 "metadata": {
  "kernelspec": {
   "display_name": "Python 3",
   "language": "python",
   "name": "python3"
  },
  "language_info": {
   "codemirror_mode": {
    "name": "ipython",
    "version": 3
   },
   "file_extension": ".py",
   "mimetype": "text/x-python",
   "name": "python",
   "nbconvert_exporter": "python",
   "pygments_lexer": "ipython3",
   "version": "3.7.1"
  }
 },
 "nbformat": 4,
 "nbformat_minor": 4
}
